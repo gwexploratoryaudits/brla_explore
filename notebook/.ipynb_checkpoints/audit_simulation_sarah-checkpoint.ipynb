{
 "cells": [
  {
   "cell_type": "markdown",
   "metadata": {},
   "source": [
    "# Bayesian RLA Audit Simulations\n",
    "\n",
    "Code: src/audit_simulation_sarah.py\n",
    "\n",
    "This code utilizes the `brla` and `multivhyper` classes to simulate Bayesian RLAs for a given election. It creates audit objects for elections which can then repeatedly run audit simulations to determine if the audit will succeed. It supports the audit on both 2-Candidate and Multiple Candidate elections with or wihtout invalid votes present.\n",
    "\n",
    "*Run the following lines once to run examples below*"
   ]
  },
  {
   "cell_type": "code",
   "execution_count": 1,
   "metadata": {},
   "outputs": [
    {
     "name": "stdout",
     "output_type": "stream",
     "text": [
      "C:\\Users\\smorin\\Documents\\brla_explore\n"
     ]
    }
   ],
   "source": [
    "cd .."
   ]
  },
  {
   "cell_type": "code",
   "execution_count": 2,
   "metadata": {},
   "outputs": [],
   "source": [
    "from src.audit_simulation_sarah import auditsim"
   ]
  },
  {
   "cell_type": "markdown",
   "metadata": {},
   "source": [
    "## Simulating an audit\n",
    "\n",
    "### Creating an object\n",
    "\n",
    "To create the `auditsim` object pass the following information into the constructor.\n",
    "- `total_votes`: Total number of ballots cast in the election to audit. \n",
    "- `vote_dist`: True underlying distribution of votes in election. Can either be passed as list of integer counts or dict with integer values.\n",
    "- `audit_tier`: First audit tier to use in audit. *Currently the audit begins at first audit tier and as the audit progresses, the audit tier doubles.*\n",
    "- `invalid`: Boolean values indicating if invalid votes are present in election. *(Optiona default = False)*\n",
    "\n",
    "For example, to simulate an audit on an election with:\n",
    "- 100,000 ballots cast\n",
    "- 2 candidates\n",
    "- 20% invalid votes\n",
    "- True outcome: Tie \n",
    "- Audit tiers beginning at 200 votes\n",
    "\n",
    "We would create an `auditsim` object as follows:"
   ]
  },
  {
   "cell_type": "code",
   "execution_count": 3,
   "metadata": {},
   "outputs": [],
   "source": [
    "tied_election_audit = auditsim(100000, [40000, 40000, 20000], 200, True)"
   ]
  },
  {
   "cell_type": "markdown",
   "metadata": {},
   "source": []
  },
  {
   "cell_type": "markdown",
   "metadata": {},
   "source": [
    "### Running the audit\n",
    "\n",
    "To then run an audit on this election, we would choose a risk limit and call `run()` on the `auditsim` object, passing the risk limit in as a parameter. The `run()` method returns **True** if the audit stops (confirming the announced outcome the election and returns **False** if the audit must progress to a full hand recount (if the audit tier becomes greater than 50% of the total ballots cast in the election.)\n",
    "\n",
    "Continuing with the previous example, let's run an audit using a risk limit of 10%. \n",
    "\n",
    "*Note: Running the audit may take some time.*"
   ]
  },
  {
   "cell_type": "code",
   "execution_count": 5,
   "metadata": {},
   "outputs": [
    {
     "data": {
      "text/plain": [
       "False"
      ]
     },
     "execution_count": 5,
     "metadata": {},
     "output_type": "execute_result"
    }
   ],
   "source": [
    "tied_election_audit.run(0.1)"
   ]
  },
  {
   "cell_type": "markdown",
   "metadata": {},
   "source": [
    "Since the election was tied, the audit should go to a full recount and the code should reutrn False; however, since we used a 10% risk-limit there is still a chance the audit might fail. To see how many times the audit will fail, you could manually run the same line above many times, or you could write a simple program to test the audit many times."
   ]
  },
  {
   "cell_type": "markdown",
   "metadata": {},
   "source": [
    "## Testing the audit\n",
    "\n",
    "Because `auditsim` support running many audits on the same election, it is useful to run many simulations of the same audit to determine how often the audit will succeed.\n",
    "\n",
    "The example belows runs 500 audits on a tied election and records how often the audit fails. For the sake of speed, the election is only 1000 votes."
   ]
  },
  {
   "cell_type": "code",
   "execution_count": 10,
   "metadata": {},
   "outputs": [
    {
     "name": "stdout",
     "output_type": "stream",
     "text": [
      "Audit fail rate:  0.008\n"
     ]
    }
   ],
   "source": [
    "simulations = 500\n",
    "fails = 0\n",
    "tied_audit = auditsim(1000, [450, 450, 100], 20, True)\n",
    "\n",
    "for i in range(simulations):\n",
    "    if tied_audit.run(0.1):\n",
    "        fails += 1\n",
    "        \n",
    "print(\"Audit fail rate: \", fails/simulations)"
   ]
  },
  {
   "cell_type": "markdown",
   "metadata": {},
   "source": [
    "As expected, the fail rate is less than the 10% risk-limit."
   ]
  }
 ],
 "metadata": {
  "kernelspec": {
   "display_name": "Python 3",
   "language": "python",
   "name": "python3"
  },
  "language_info": {
   "codemirror_mode": {
    "name": "ipython",
    "version": 3
   },
   "file_extension": ".py",
   "mimetype": "text/x-python",
   "name": "python",
   "nbconvert_exporter": "python",
   "pygments_lexer": "ipython3",
   "version": "3.7.3"
  }
 },
 "nbformat": 4,
 "nbformat_minor": 2
}
