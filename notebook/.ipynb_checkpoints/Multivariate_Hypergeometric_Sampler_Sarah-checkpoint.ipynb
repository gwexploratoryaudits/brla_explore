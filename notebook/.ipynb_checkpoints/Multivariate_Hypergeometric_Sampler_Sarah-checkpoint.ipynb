{
 "cells": [
  {
   "cell_type": "markdown",
   "metadata": {},
   "source": [
    "# Multivariate Hypergeometric Sample Tool\n",
    "\n",
    "Code in file: src/multivariate_hypergeom_sample.py \n",
    "\n",
    "This distribution allows for sampling from a group of elements of various types (more than 2) without replacement. For example, we might want to sample from a bag containing 10 red, 20 white, and 5 blue balls. If we take a random sample of 5 balls, how many will be red, white, and blue, respectively? Simulating exercises such as this can be accomplished using the following Python class. \n",
    "\n",
    "&nbsp;\n",
    "&nbsp;\n",
    "&nbsp;\n",
    "\n",
    "*Run the following lines once to run examples below:*"
   ]
  },
  {
   "cell_type": "code",
   "execution_count": null,
   "metadata": {},
   "outputs": [],
   "source": [
    "cd .."
   ]
  },
  {
   "cell_type": "code",
   "execution_count": null,
   "metadata": {},
   "outputs": [],
   "source": [
    "from src.multivariate_hypergeom_sample import multivhyper"
   ]
  },
  {
   "cell_type": "markdown",
   "metadata": {},
   "source": [
    "### multivhyper\n",
    "\n",
    "Python class to create distribution objects to obtain samples. \n",
    "\n",
    "Methods:\n",
    "- `sample(int size)`: Get a sample of given size from the distribution.\n",
    "- `cdf()`: Calculate current CDF of distribution as list of floats.\n",
    "- `print_status()`: Print current status of distribution. Current size, element type counts, and current element proportions. *For formatting purposes, element proportions are rounded to 3 decimal places when printed.*\n",
    "\n",
    "\n",
    "*Note: Any arrays associated with the element types of the distribution will keep the same order as the list/dict passed into the constructor.*\n"
   ]
  },
  {
   "cell_type": "markdown",
   "metadata": {},
   "source": [
    "#### Creating an object\n",
    "\n",
    "To create the distribution object, either pass a list of integer counts of each element or a dictionary with element type keys and integer values into the constructor.\n",
    "\n",
    "This code creates a distribution object for the ball example using a list and a dictionary. We call print_status() to demonstrate the creation of each object."
   ]
  },
  {
   "cell_type": "code",
   "execution_count": null,
   "metadata": {},
   "outputs": [],
   "source": [
    "ball_dist1 = multivhyper([10, 20, 5])\n",
    "ball_dist1.print_status()\n",
    "\n",
    "ball_dist2 = multivhyper({'Red': 10, 'White': 20, 'Blue': 5})\n",
    "ball_dist2.print_status()"
   ]
  },
  {
   "cell_type": "markdown",
   "metadata": {},
   "source": [
    "#### Obtaining a Sample\n",
    "\n",
    "To sample from a distribution, simple call the `sample()` method and pass in the desired sample size. The method returns an array of counts of each element type in the sample. The optional print_sample parameter allows you to print the sample (along with element types if applicable).\n",
    "\n",
    "*Sample size must integer be no greater than the size (number of elements) left in the distribution.*\n",
    "\n",
    "\n",
    "\n",
    "To folloiwng pseudocode demonstrates how the sample is obtained:\n",
    "``` \n",
    "sample(size):\n",
    "    sample size = 0\n",
    "    \n",
    "    while sample size < size:\n",
    "        rand = generate random number between 0 and 1\n",
    "        cdf = get cdf of of dist\n",
    "        \n",
    "        for each type of element in cdf:\n",
    "            if rand < current cdf value and count of element type > 0:\n",
    "                add 1 element of current type to sample\n",
    "                remove element from dist\n",
    "                increment sample size\n",
    "                decrement dist size\n",
    "    \n",
    "    return sample\n",
    "\n",
    "```\n",
    "\n",
    "The first example takes a sample of size 10 from the first ball distribution and the second takes a sample of 5 from the second with `print_sample=True`."
   ]
  },
  {
   "cell_type": "code",
   "execution_count": null,
   "metadata": {},
   "outputs": [],
   "source": [
    "ball_dist1.sample(10)"
   ]
  },
  {
   "cell_type": "code",
   "execution_count": null,
   "metadata": {},
   "outputs": [],
   "source": [
    "ball_dist2.sample(5, True)"
   ]
  },
  {
   "cell_type": "markdown",
   "metadata": {},
   "source": [
    "After taking the sample, obtain the status of the dsitribution again to observe how sampling wihtout replacement has affected the distribution."
   ]
  },
  {
   "cell_type": "code",
   "execution_count": null,
   "metadata": {},
   "outputs": [],
   "source": [
    "ball_dist1.print_status()\n",
    "ball_dist2.print_status()"
   ]
  },
  {
   "cell_type": "markdown",
   "metadata": {},
   "source": [
    "#### Calculating CDF\n",
    "\n",
    "The `cdf()` method is primarily used to obtain the sample; however, we can simply obtain this list without needing to sample if necessary. To do so, simple call the `cdf()` method on a distribuion object to obtain a list of floats representing the CDF value at each element type. \n",
    "\n",
    "For the ball example:"
   ]
  },
  {
   "cell_type": "code",
   "execution_count": null,
   "metadata": {},
   "outputs": [],
   "source": [
    "ball_dist1.cdf()"
   ]
  },
  {
   "cell_type": "code",
   "execution_count": null,
   "metadata": {},
   "outputs": [],
   "source": [
    "ball_dist2.cdf()"
   ]
  },
  {
   "cell_type": "markdown",
   "metadata": {},
   "source": [
    "## Use in Bayesian-RLA\n",
    "\n",
    "The multivhyper class was created to simulate audits on elections with invlaid votes or more than two candidates. Although Python has useful libraries such as NumPy and SciPy, neither currently allow you to sample from a multivaraite hypergeomteric distribution, as needed to simulate these audits on various types of elections. Given code to perform an audit, it is possible to simulate an audit on any type of election using multivhyper. \n",
    "\n",
    "For example, when testing audits on electoins with invalid votes, I created a tied electoin with 20% of the votes beign invalid. To run the audit, I repeatedly sample from the distribution (which represents the abllots in an election) as the audit either continues or progresses. \n",
    "\n"
   ]
  }
 ],
 "metadata": {
  "kernelspec": {
   "display_name": "Python 3",
   "language": "python",
   "name": "python3"
  },
  "language_info": {
   "codemirror_mode": {
    "name": "ipython",
    "version": 3
   },
   "file_extension": ".py",
   "mimetype": "text/x-python",
   "name": "python",
   "nbconvert_exporter": "python",
   "pygments_lexer": "ipython3",
   "version": "3.7.3"
  }
 },
 "nbformat": 4,
 "nbformat_minor": 2
}
