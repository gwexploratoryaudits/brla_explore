{
 "cells": [
  {
   "cell_type": "markdown",
   "metadata": {},
   "source": [
    "# Bayesian RLA Tool\n",
    "\n",
    "Code in file src/brla_sarah.py\n",
    "\n",
    "This class provides necessary module to perform a Bayesian Risk-Limiting Audit on an election. It is capable of performing this audit on simple two-candidate elections, multiple candidate elections, and any election with invalid votes. \n",
    "\n",
    "*Run the following lines once to run examples below*"
   ]
  },
  {
   "cell_type": "code",
   "execution_count": null,
   "metadata": {},
   "outputs": [],
   "source": [
    "cd .."
   ]
  },
  {
   "cell_type": "code",
   "execution_count": null,
   "metadata": {},
   "outputs": [],
   "source": [
    "from src.brla_sarah import brla"
   ]
  },
  {
   "cell_type": "markdown",
   "metadata": {},
   "source": [
    "## brla\n",
    "\n",
    "Python class which creates election auditing objects given an total vote count and provides the following functionality:\n",
    "- `get_error()`: Get the error value (risk-limit) of a $k_{min}$ (stopping size) given and audit size and (optional) number of invalid votes.\n",
    "- `get_stopping_size()`: Find the $k_{min}$ (stopping size) for a given audit size, risk limit, and (optional) number of invalid votes.\n",
    "- `get_prior()`: Create the prior distribution used for the Bayesian RLA or update the prior to account for invalid votes.\n",
    "- `lookup_table()`: Generate a lookup table for the audit given a list fo audit tiers, risk limits, and (optional) number of invalid votes. (Optional `print_table` argument prints a mroe formatted version of the lookup table than a simple call to `print()`).\n",
    "\n",
    "The `get_error()` and `get_prior()` functions are called within the other methods to generate the $k_{min}$ values for an audit and are generally not used as stand-alone functions, but coudl be used in this way for testing/experimentation. "
   ]
  },
  {
   "cell_type": "markdown",
   "metadata": {},
   "source": [
    "### Creating an object\n",
    "\n",
    "To create aa brla object simply call `brla()` and pass in the total number of votes (as an integer) in the election. The constructor will create an election audit object with the given total vote count and assosicated prior distribution.\n",
    "\n",
    "We will create an election of 100000 votes as an example. After we create the object we will ensure it's `total_votes` and `prior` attributes are set correctly. *The prior distribution is a very large array, so only a few values are printed*"
   ]
  },
  {
   "cell_type": "code",
   "execution_count": null,
   "metadata": {},
   "outputs": [],
   "source": [
    "audit = brla(100000)\n",
    "print(\"Total votes in election: \", audit.total_votes)\n",
    "print(\"Prior distribution (as array): \", audit.prior)"
   ]
  },
  {
   "cell_type": "markdown",
   "metadata": {},
   "source": [
    "### Generating a lookup table\n",
    "\n",
    "To generate a lookup table, we must pass in a list of integer audit tiers and a list of float risk limits. This will return an array with a column for each audit tier and a row for each risk limit. Each cell holds the $k_{min}$, or stopping value, we would need to meet at a specific audit tier/risk limit in order to stop the audit. The `lookup_table()` function utilizes the three other class functions to generate these $k_{min}$ values.\n",
    "\n",
    "The optional print_table parameter allows you to print the lookup table using axese for the risk limits and audit tiers.\n",
    "\n",
    "The code below generates and prints Table 3 from the Bayesian RLA paper (Poorvi Vora)"
   ]
  },
  {
   "cell_type": "code",
   "execution_count": null,
   "metadata": {},
   "outputs": [],
   "source": [
    "audit.lookup_table([200, 400, 800, 1600, 3200, 6400, 12800, 25600, 51200], [0.1, 0.05, 0.005], print_table=True);"
   ]
  },
  {
   "cell_type": "markdown",
   "metadata": {},
   "source": [
    "The optional invalid vote parameter allows you to generate a lookup table which accounts for either a constant number of invalid votes throughout the audit or a portion of invalid votes at each audit tier. When auditing an election with invalid votes, the kmin value is updated at each audit tier for the specific value of invalid votes found in the current sample, so this option would not be used in a true audit; however it is useful for observing how the presence of invalid votes will change the kmin values generated.\n",
    "\n",
    "The code belows demonstrates the two different usages of the invalid vote parameter. *A smaller election size is used for speed.*"
   ]
  },
  {
   "cell_type": "code",
   "execution_count": null,
   "metadata": {},
   "outputs": [],
   "source": [
    "audit_invalid = brla(1000)\n",
    "print(\"Lookup table wihtout invalid votes\")\n",
    "audit_invalid.lookup_table([20, 40, 80, 160, 320, 640], [0.1, 0.05, 0.005], print_table=True)\n",
    "print(\"\\n Lookup table with 10 invalid votes\")\n",
    "audit_invalid.lookup_table([20, 40, 80, 160, 320, 640], [0.1, 0.05, 0.005], 10, print_table=True)\n",
    "print(\"\\n Lookup table with 5% invalid votes\")\n",
    "audit_invalid.lookup_table([20, 40, 80, 160, 320, 640], [0.1, 0.05, 0.005], 0.05, print_table=True);"
   ]
  },
  {
   "cell_type": "markdown",
   "metadata": {},
   "source": [
    "### Running an Audit\n",
    "\n",
    "#### 2-Candidate (no invalid votes)\n",
    "For an election with 2 candidates and no invalid votes, we can simply generate the lookup table for the election as above and use the generated $k_{min}$ values in the table.\n",
    "\n",
    "#### 2-Candidate (w/ invalid votes)\n",
    "\n",
    "For an election with 2 candidates and invalid votes, simply generating the lookup table will not suffice because of the need to recalculate $k_{min}$ values at each audit tier. In these cases, we simply use the `get_stopping_size()` function (which utilizes `get_error()` and `get_prior()`) to calculate this value as the audit progresses. \n",
    "\n",
    "For example, consider auditing the first example: a 2-candidate election with invalid votes and a total of 100000 ballots cast. We use a 10% risk limit and begin at an audit tier of 200 votes and find 17 invalid votes in the sample. The code below gives the new $k_{min}$ value we test against."
   ]
  },
  {
   "cell_type": "code",
   "execution_count": null,
   "metadata": {},
   "outputs": [],
   "source": [
    "audit.get_stopping_size(200, 0.1, 17)"
   ]
  },
  {
   "cell_type": "markdown",
   "metadata": {},
   "source": [
    "Thus, our sample must contain more than 111 votes for the announced winner to stop the audit. *Note this $k_{min}$ value is smaller than the 120 $k_{min}$ value in the table which does not account for invalid votes, as expected.*"
   ]
  },
  {
   "cell_type": "markdown",
   "metadata": {},
   "source": [
    "#### Multiple Candidates\n",
    "\n",
    "For multiple candidate elections, we compare the announced winner to each other candidate independently. In each comparison we consider all other votes (invalid or for other candidates) as invalid votes. Thus to stop the audit, the announced winner must meet all the $k_{min}$ value associated with each of these pairwise comparisons. Since invalid votes are accounted for in each pairwise comparison, the audit method is no different for an election with/without invalid votes.\n",
    "\n",
    "Take the example of a 3 candidate election (A,B,C) with 100000 ballots cast. Once again we begin at audit tier 200 and using a 10% risk limit. Say we find 90 votes for A, the announced winner, 70 for B, and 40 for C. We must do two pairwise comparisons. "
   ]
  },
  {
   "cell_type": "code",
   "execution_count": null,
   "metadata": {
    "scrolled": true
   },
   "outputs": [],
   "source": [
    "# A vs. B\n",
    "print(audit.get_stopping_size(200, 0.1, 40))\n",
    "# A vs. C\n",
    "print(audit.get_stopping_size(200, 0.1, 70));"
   ]
  },
  {
   "cell_type": "markdown",
   "metadata": {},
   "source": [
    "Thus we need to have more than 98 votes for A to pass the first comparison and 81 to pass the second. Since we only found 90 votes for A, it would only pass the second comparison and the audit would have progresses to the next audit tier. "
   ]
  }
 ],
 "metadata": {
  "kernelspec": {
   "display_name": "Python 3",
   "language": "python",
   "name": "python3"
  },
  "language_info": {
   "codemirror_mode": {
    "name": "ipython",
    "version": 3
   },
   "file_extension": ".py",
   "mimetype": "text/x-python",
   "name": "python",
   "nbconvert_exporter": "python",
   "pygments_lexer": "ipython3",
   "version": "3.7.3"
  }
 },
 "nbformat": 4,
 "nbformat_minor": 2
}
