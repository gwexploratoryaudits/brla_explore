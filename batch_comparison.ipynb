{
 "cells": [
  {
   "cell_type": "markdown",
   "metadata": {},
   "source": [
    "<h1> An Application of Athena Methods to Batch Comparison Audits </h1> \n",
    "\n",
    "This notebook illustrates a straightforward application of some of the methods described in <em>The Athena Class of Risk-Limiting Ballot Polling Audits</em> (Zagórski et al, https://arxiv.org/abs/2008.02315) to a scheme for batch comparison audits as in <em>Conservative Statistical Post-Election Audits</em> (Stark, https://projecteuclid.org/download/pdfview_1/euclid.aoas/1215118528). The code is exploratory, as it does not address multiple candidates, multiple contests, nor does it attempt to apply Athena to the more complex (and more efficient!) Kaplan-Markov method in <em>Risk Limiting Postelection Audits: Conservative </em>P<em>-values From Common Probability Inequalities</em> (Stark, https://www.stat.berkeley.edu/~stark/Preprints/pvalues09.pdf)."
   ]
  },
  {
   "cell_type": "markdown",
   "metadata": {},
   "source": [
    "We begin with notation, which is largely borrowed from Stark's papers (above), but can be simplified because of our consideration of only the two-candidate case. An election has $N$ precincts (or batches), and has a reported margin $M$. Each precinct $p$ has a true (absolute) error $e_p$, which is intuitively understood as the reduction in the margin that occurs when rectifying the batch total. A value of $e_p = 0$ means the batch total was correct; $e_p < 0$ means the batch erred in the direction of favoring the reported winner; $e_p > 0$ means the batch erred in the direction of favoring the reported loser. Let $v_{pw}$ and $v_{pl}$ be the reported tallies in precinct $p$ for the reported winner and reported loser, respectively, and $a_{pw}$ and $a_{pl}$ be the true tallies in precinct $p$ for the reported winner and reported loser, respectively. Then $e_p$ = $(v_{pw} - v_{pl}) - (a_{pw} - a_{pl})$. Let $u_p$ be a hard upper bound for $e_p$. This may involve a physical element, for example, how many ballots were shipped to the precinct."
   ]
  },
  {
   "cell_type": "markdown",
   "metadata": {},
   "source": [
    "The precinct class contains all the necessary fields: a unique integer identifying the precinct, the upper bound error, and the true error."
   ]
  },
  {
   "cell_type": "code",
   "execution_count": 32,
   "metadata": {},
   "outputs": [],
   "source": [
    "from scipy.stats import hypergeom\n",
    "from scipy.signal import fftconvolve\n",
    "from typing import List, Dict\n",
    "\n",
    "class Precinct():\n",
    "    def __init__(self, intid: int, up: int, ep: int=-(2 ** 31)):\n",
    "        self.intid = intid\n",
    "        self.up = up\n",
    "        self.ep = ep"
   ]
  },
  {
   "cell_type": "markdown",
   "metadata": {},
   "source": [
    "The audit itself has a round schedule $n_1, n_2, \\dots, n_j$ and a corresponding explicit risk schedule $\\alpha_1, \\alpha_2, \\dots, \\alpha_j$. The risk limit of the audit is (no larger than) $\\sum_{i = 1}^j \\alpha_i$."
   ]
  },
  {
   "cell_type": "code",
   "execution_count": 33,
   "metadata": {},
   "outputs": [],
   "source": [
    "class BatchComparisonAudit():\n",
    "    def __init__(self, precincts: List[Precinct], margin: int, rounds: List[int], \n",
    "    risk_sched: List[float], tolerance: int):\n",
    "        self.precincts = precincts\n",
    "        self.margin = margin\n",
    "        self.rounds = rounds\n",
    "        self.tolerance = tolerance\n",
    "        self.kmaxs = []\n",
    "        self.risk_sched = risk_sched\n",
    "        self.realized_risk_sched = []\n",
    "        self.current_x = 0\n",
    "        self.current_dist = []\n",
    "        self.N = len(self.precincts)"
   ]
  },
  {
   "cell_type": "markdown",
   "metadata": {},
   "source": [
    "The crux of the mathematics of the audit is a differentiation between \"good\" batches and \"bad\" batches, where \"good\" batches have $e_p \\leq t$, where $t$ is a small tolerance and \"bad\" batches gave $e_p > t$. If enough batches are pulled and they are mostly or all \"good\", then there is evidence that there are few \"bad\" batches which could tip the margin in the reported loser's favor."
   ]
  },
  {
   "cell_type": "markdown",
   "metadata": {},
   "source": [
    "Risk-limting audits must devise and assume the worst-case election, that is, the election that is incorrectly called but most difficult to discern as incorrect. In ballot-polling audits, this generally means assuming the underlying tally is a tie, because that is hardest to differentiate from the reported margin (which will be $> .5$). In our case, it means assuming as few precincts as possible carry just enough error to close the margin. We denote by $x$ the fewest number of precincts that could flip the outcome: $x := |U_i|$, where $U_i$ is the smallest list of errors (true or upper bound) satisfying $\\sum_{r \\in U_i} r \\geq M$, where each $r$ is either $e_p$ or $u_p$ for some precinct $p$. The computation of $x$ is somewhat complicated when we let each batch make a small \"tolerance\" error."
   ]
  },
  {
   "cell_type": "code",
   "execution_count": 34,
   "metadata": {},
   "outputs": [],
   "source": [
    "def compute_x(bca):\n",
    "        # Sort the lists of upper bound and true errors, and initialize pointers and a running sum\n",
    "        # to 0.\n",
    "        upsort = sorted(bca.precincts, key=lambda p: p.up, reverse=True)\n",
    "        epsort = sorted(bca.precincts, key=lambda p: p.ep, reverse=True)\n",
    "        upptr = 0\n",
    "        epptr = 0\n",
    "        esum = 0\n",
    "        \n",
    "        # The only batches that are excluded from the assumption of making a tolerance error are\n",
    "        # those which have been audited (and do in fact have an error < tolerance), and those which \n",
    "        # we are assuming of making an error > tolerance.\n",
    "        less_than_tolerance_batches = 0\n",
    "        less_than_tolerance_cumulative_error = 0\n",
    "        for p in bca.precincts:\n",
    "            if p.ep != -(2 ** 31) and p.ep < bca.tolerance:\n",
    "                less_than_tolerance_batches += 1\n",
    "                # Batches that have error\n",
    "                less_than_tolerance_cumulative_error += p.ep\n",
    "\n",
    "        # The worst x batches should exceed the margin minus an account for tolerance.\n",
    "        while esum < bca.margin - less_than_tolerance_cumulative_error - (bca.N - less_than_tolerance_batches - (upptr + epptr)) * bca.tolerance:\n",
    "            # If the largest unused upper bound error is larger than the largest unused true error,\n",
    "            # advance the upper bound pointer. Otherwise, if there are no more upper bound errors \n",
    "            # left, or an unused true error is larger than an upper bound error, advance the true \n",
    "            # error pointer.\n",
    "            upnext = upsort[upptr].up >= epsort[epptr].ep and upptr < len(upsort)\n",
    "            if upnext:\n",
    "                esum += upsort[upptr].up\n",
    "                upptr += 1\n",
    "            else:\n",
    "                esum += epsort[epptr].ep\n",
    "                epptr += 1\n",
    "\n",
    "        bca.current_x = upptr + epptr\n",
    "        return upptr + epptr # To see in Notebook"
   ]
  },
  {
   "cell_type": "markdown",
   "metadata": {},
   "source": [
    "After a round is conducted, the true errors found (respective to the unique precinct intid's) are inputted via the following method. It is not strictly necessary to do so, but it may desirably increase $x$."
   ]
  },
  {
   "cell_type": "code",
   "execution_count": 35,
   "metadata": {},
   "outputs": [],
   "source": [
    "def record_round(bca, eplist: Dict[int, int]):\n",
    "        for p in bca.precincts:\n",
    "            if p.intid in eplist:\n",
    "                p.ep = eplist[p.intid]"
   ]
  },
  {
   "cell_type": "markdown",
   "metadata": {},
   "source": [
    "Given the computed value of $x$, which represents the least (worst-case) number of bad batches in the population, we can generate the distribution of the number of bad batches in the sample (for a given round). For the first round, this is straightforward: it is the hypergeometric distribution where the population size is N, the population \"successes\" (bad batches) is x, the sample size is $n_i$ for some $1 \\leq i \\leq j$, and the number of sample successes is $k$. For further rounds, it is a convolution which we elaborate on later."
   ]
  },
  {
   "cell_type": "code",
   "execution_count": 36,
   "metadata": {},
   "outputs": [],
   "source": [
    "def compute_dist(bca, rnd_i):\n",
    "        if rnd_i == 0:\n",
    "            bca.current_dist = hypergeom.pmf(range(bca.rounds[0] + 1), bca.N, bca.current_x, \n",
    "                bca.rounds[0])\n",
    "        else:\n",
    "            # We avoid having to use a complicated manual convolution because the third parameter, x,\n",
    "            # does not change mid-round (or rather if it does, all past rounds are recomputed).\n",
    "            sample_good_batches = range(bca.rounds[rnd_i] - bca.rounds[rnd_i - 1] + 1)\n",
    "            unsampled_N = bca.N - bca.rounds[rnd_i - 1]\n",
    "            sample_size = bca.rounds[rnd_i] - bca.rounds[rnd_i - 1] + 1\n",
    "            bca.current_dist = fftconvolve(bca.current_dist, \n",
    "                hypergeom.pmf(sample_good_batches, unsampled_N, bca.current_x, sample_size))"
   ]
  },
  {
   "cell_type": "markdown",
   "metadata": {},
   "source": [
    "Naturally, lower values of $k$ are more desirable, and we can employ the notion of a $k_{max}$. The $k_{max}(n_i)$ is the largest value of $k$ in round $n_i$ such that the left tail up to $k$ (inclusive) is less than $\\alpha_i$ (i.e., the audit can stop). Rounds may not have a $k_{max}$ if the sample size is too small. We find the $k_{max}$ with a linear search."
   ]
  },
  {
   "cell_type": "code",
   "execution_count": 37,
   "metadata": {},
   "outputs": [],
   "source": [
    "def find_kmax(bca, rnd_i):\n",
    "        tail = 0\n",
    "        for i in range(len(bca.current_dist) - 1):\n",
    "            tail += bca.current_dist[i]\n",
    "            if tail < bca.risk_sched[rnd_i] and tail + bca.current_dist[i+1] >= bca.risk_sched[rnd_i]:\n",
    "                bca.kmaxs.append(i)\n",
    "                return\n",
    "        bca.kmaxs.append(None)"
   ]
  },
  {
   "cell_type": "markdown",
   "metadata": {},
   "source": [
    "Mirroring the form of Athena class audits, we now observe that values of $k \\leq k_{max}$ do not proceed to further rounds, and so can be truncated from the probability distribution. Unlike in Athena audits, where a right tail is truncated, here a left tail is truncated because sufficiently low values, not high ones, let the audit stop. This truncated distribution gets convolved with a \"fresh\" hypergeometric distribution to produce the next round's distribution."
   ]
  },
  {
   "cell_type": "code",
   "execution_count": 38,
   "metadata": {},
   "outputs": [],
   "source": [
    "def truncate_dist(bca):\n",
    "        if bca.kmaxs[-1] is None:\n",
    "            bca.realized_risk_sched.append(0)\n",
    "            return\n",
    "        bca.realized_risk_sched.append(sum(bca.current_dist[:bca.kmaxs[-1] + 1]))\n",
    "        # True truncation is unacceptable since the distribution does not actually start at k=0 after truncation.\n",
    "        for i in range(bca.kmaxs[-1] + 1):\n",
    "            bca.current_dist[i] = 0"
   ]
  },
  {
   "cell_type": "markdown",
   "metadata": {},
   "source": [
    "The last three methods are combined into a function that computes the audit up to a given round, and based on the current $x$. Such functionality is useful because, if $x$ increases mid-audit (which may happen if some $p$ with large $u_p$ are found to have small $e_p$), then we know with certainty a past assumption was too conservative, and we can recompute the entire audit thus far, permitting auditors to retroactively stop if they satisfy any of the recomputed $k_{max}$."
   ]
  },
  {
   "cell_type": "code",
   "execution_count": 39,
   "metadata": {},
   "outputs": [],
   "source": [
    "def compute_rounds(bca, i):\n",
    "        bca.kmaxs = []\n",
    "        bca.realized_risk_sched = []\n",
    "        # The audit computation procedure mirrors that of Minerva, except in that the audit is\n",
    "        # scheduled beforehand.\n",
    "        for rnd in range (i+1):\n",
    "            compute_dist(bca, rnd)\n",
    "            find_kmax(bca, rnd)\n",
    "            truncate_dist(bca)"
   ]
  },
  {
   "cell_type": "markdown",
   "metadata": {},
   "source": [
    "<h2> Audit Scenario 1 </h2>\n",
    "\n",
    "Consider an election with $N = 1,000$ precincts, each with $1,000$ ballots ($510$ for the reported winner and $490$ for the reported loser) is audited with a single-round of $100$ and a risk limit of $.2$.\n",
    "\n",
    "For the hard error upper bounds, assume that each precinct was delivered $1,100$ ballots (and so $100$ ballots per precinct went unused or were counted as invalid). Then the upper bound (corresponding to the worst-case possibility that all $1,100$ ballots really were cast for the reported loser) is $u_p = 1,100 + (510 - 490) = 1,120$. That is, correcting the precinct could \"close the margin\" by up to $1,120$ votes, given our assumption of $1,100$ delivered ballots.\n",
    "\n",
    "If the election was completely correctly called (that is, every hand precinct count reveals the reported count) the audit will stop at the first point there is a $k_{max}$. (So a multiple-round schedule with these assumptions is rather disingenuous since exactly all rounds except possibly one will have stopping probabilities and risks of $0$%, the exception having stopping probability $100$%.)\n",
    "\n",
    "Assume a tolerance of $t = 0$.\n",
    "\n",
    "We begin by constructing the necessary audit objects."
   ]
  },
  {
   "cell_type": "code",
   "execution_count": 40,
   "metadata": {},
   "outputs": [],
   "source": [
    "N = 1000\n",
    "margin = 20000\n",
    "plist = []\n",
    "for i in range(N):\n",
    "    plist.append(Precinct(i, 1120))\n",
    "bca = BatchComparisonAudit(plist, margin, [100], [.2], 0)"
   ]
  },
  {
   "cell_type": "markdown",
   "metadata": {},
   "source": [
    "We compute $x$, and then the first and only round of this audit."
   ]
  },
  {
   "cell_type": "code",
   "execution_count": 41,
   "metadata": {},
   "outputs": [
    {
     "data": {
      "text/plain": [
       "18"
      ]
     },
     "execution_count": 41,
     "metadata": {},
     "output_type": "execute_result"
    }
   ],
   "source": [
    "compute_x(bca)"
   ]
  },
  {
   "cell_type": "code",
   "execution_count": 42,
   "metadata": {},
   "outputs": [],
   "source": [
    "compute_rounds(bca, 0)"
   ]
  },
  {
   "cell_type": "markdown",
   "metadata": {},
   "source": [
    "From the computation we can glean the $k_{max}$ and the precise <em>p</em>-value associated with the $k_{max}$."
   ]
  },
  {
   "cell_type": "code",
   "execution_count": 43,
   "metadata": {},
   "outputs": [
    {
     "data": {
      "text/plain": [
       "[0]"
      ]
     },
     "execution_count": 43,
     "metadata": {},
     "output_type": "execute_result"
    }
   ],
   "source": [
    "bca.kmaxs"
   ]
  },
  {
   "cell_type": "code",
   "execution_count": 44,
   "metadata": {},
   "outputs": [
    {
     "data": {
      "text/plain": [
       "[0.147533268723528]"
      ]
     },
     "execution_count": 44,
     "metadata": {},
     "output_type": "execute_result"
    }
   ],
   "source": [
    "bca.realized_risk_sched"
   ]
  },
  {
   "cell_type": "markdown",
   "metadata": {},
   "source": [
    "Even if no errors are found, one tenth of the batches must be audited to attain a risk of $14.75$%!"
   ]
  },
  {
   "cell_type": "markdown",
   "metadata": {},
   "source": [
    "We see that the current distribution's value at $k = 0$ is zeroed out due to the truncation."
   ]
  },
  {
   "cell_type": "code",
   "execution_count": 45,
   "metadata": {},
   "outputs": [
    {
     "data": {
      "text/plain": [
       "array([0.00000000e+00, 3.00747320e-01, 2.86288314e-01, 1.69077242e-01,\n",
       "       6.94151769e-02, 2.10358507e-02, 4.87599016e-03, 8.83836879e-04,\n",
       "       1.26989484e-04, 1.45691889e-05, 1.33768674e-06, 9.80489107e-08,\n",
       "       5.69392910e-09, 2.58392313e-10, 8.96051149e-12, 2.29090744e-13,\n",
       "       4.06585047e-15, 4.46942930e-17, 2.28989279e-19, 0.00000000e+00,\n",
       "       0.00000000e+00, 0.00000000e+00, 0.00000000e+00, 0.00000000e+00,\n",
       "       0.00000000e+00, 0.00000000e+00, 0.00000000e+00, 0.00000000e+00,\n",
       "       0.00000000e+00, 0.00000000e+00, 0.00000000e+00, 0.00000000e+00,\n",
       "       0.00000000e+00, 0.00000000e+00, 0.00000000e+00, 0.00000000e+00,\n",
       "       0.00000000e+00, 0.00000000e+00, 0.00000000e+00, 0.00000000e+00,\n",
       "       0.00000000e+00, 0.00000000e+00, 0.00000000e+00, 0.00000000e+00,\n",
       "       0.00000000e+00, 0.00000000e+00, 0.00000000e+00, 0.00000000e+00,\n",
       "       0.00000000e+00, 0.00000000e+00, 0.00000000e+00, 0.00000000e+00,\n",
       "       0.00000000e+00, 0.00000000e+00, 0.00000000e+00, 0.00000000e+00,\n",
       "       0.00000000e+00, 0.00000000e+00, 0.00000000e+00, 0.00000000e+00,\n",
       "       0.00000000e+00, 0.00000000e+00, 0.00000000e+00, 0.00000000e+00,\n",
       "       0.00000000e+00, 0.00000000e+00, 0.00000000e+00, 0.00000000e+00,\n",
       "       0.00000000e+00, 0.00000000e+00, 0.00000000e+00, 0.00000000e+00,\n",
       "       0.00000000e+00, 0.00000000e+00, 0.00000000e+00, 0.00000000e+00,\n",
       "       0.00000000e+00, 0.00000000e+00, 0.00000000e+00, 0.00000000e+00,\n",
       "       0.00000000e+00, 0.00000000e+00, 0.00000000e+00, 0.00000000e+00,\n",
       "       0.00000000e+00, 0.00000000e+00, 0.00000000e+00, 0.00000000e+00,\n",
       "       0.00000000e+00, 0.00000000e+00, 0.00000000e+00, 0.00000000e+00,\n",
       "       0.00000000e+00, 0.00000000e+00, 0.00000000e+00, 0.00000000e+00,\n",
       "       0.00000000e+00, 0.00000000e+00, 0.00000000e+00, 0.00000000e+00,\n",
       "       0.00000000e+00])"
      ]
     },
     "execution_count": 45,
     "metadata": {},
     "output_type": "execute_result"
    }
   ],
   "source": [
    "bca.current_dist"
   ]
  },
  {
   "cell_type": "markdown",
   "metadata": {},
   "source": [
    "^ this is hypergeometric(k, N, x, n)"
   ]
  },
  {
   "cell_type": "markdown",
   "metadata": {},
   "source": [
    "<h2> Audit Scenario 2 </h2>\n",
    "\n",
    "Consider the same election parameters as in Audit Scenario 1, but now the round schedule is $[100, 200]$ and the risk schedule is $[.15, .05]$ (giving $\\alpha = .20$)."
   ]
  },
  {
   "cell_type": "code",
   "execution_count": 51,
   "metadata": {},
   "outputs": [],
   "source": [
    "N = 1000\n",
    "margin = 20000\n",
    "plist = []\n",
    "for i in range(N):\n",
    "    plist.append(Precinct(i, 1120))\n",
    "bca = BatchComparisonAudit(plist, margin, [100, 200], [.15, .05], 0)"
   ]
  },
  {
   "cell_type": "code",
   "execution_count": 52,
   "metadata": {},
   "outputs": [
    {
     "data": {
      "text/plain": [
       "18"
      ]
     },
     "execution_count": 52,
     "metadata": {},
     "output_type": "execute_result"
    }
   ],
   "source": [
    "compute_x(bca)"
   ]
  },
  {
   "cell_type": "code",
   "execution_count": 53,
   "metadata": {},
   "outputs": [],
   "source": [
    "compute_rounds(bca, 1)"
   ]
  },
  {
   "cell_type": "code",
   "execution_count": 54,
   "metadata": {},
   "outputs": [
    {
     "data": {
      "text/plain": [
       "[0, 1]"
      ]
     },
     "execution_count": 54,
     "metadata": {},
     "output_type": "execute_result"
    }
   ],
   "source": [
    "bca.kmaxs"
   ]
  },
  {
   "cell_type": "code",
   "execution_count": 55,
   "metadata": {},
   "outputs": [
    {
     "data": {
      "text/plain": [
       "[0.147533268723528, 0.034531485223801874]"
      ]
     },
     "execution_count": 55,
     "metadata": {},
     "output_type": "execute_result"
    }
   ],
   "source": [
    "bca.realized_risk_sched"
   ]
  },
  {
   "cell_type": "markdown",
   "metadata": {},
   "source": [
    "And so we can get one \"bad\" batch and still stop with this round-risk schedule."
   ]
  },
  {
   "cell_type": "markdown",
   "metadata": {},
   "source": [
    "<h2> Audit Scenario 3 </h2>\n",
    "\n",
    "Now let's consider a nonzero tolerance. Let's say we have a round size of $200$ (and risk limit of $.25$). Suppose the election is as in the earlier scenarios, except that instead of each precinct having 0 true error, true error is distributed among the sampled batches in the following way:\n",
    "\n",
    "- 180 of the 200 batches have 0 true error\n",
    "- 10 of the 200 batches have 1 true error\n",
    "- 5 of the 200 batches have 2 true error\n",
    "- 3 of the 200 batches have 3 true error\n",
    "- 1 of the 200 batches has 4 true error\n",
    "- 1 of the 200 batches has 15 true error"
   ]
  },
  {
   "cell_type": "markdown",
   "metadata": {},
   "source": [
    "What is the risk computation if we select a tolerance of 4? There is a tradeoff involved: assuming a larger tolerance t may decrease the value of $x$ (which is undesirable, because the margin-closing errors are assumed to be concentrated in fewer precincts), but desirably decreases $k$, our interpretation of how many batches are “bad.” For a $t = 4$, we see that a $k_{max}$ of $0$ will not let us stop (1 batch exceeds the tolerance)."
   ]
  },
  {
   "cell_type": "code",
   "execution_count": 61,
   "metadata": {},
   "outputs": [],
   "source": [
    "N = 1000\n",
    "margin = 20000\n",
    "plist = []\n",
    "for i in range(N):\n",
    "    plist.append(Precinct(i, 1120))\n",
    "bca = BatchComparisonAudit(plist, margin, [200], [.2], 4)\n",
    "    \n",
    "# Some true errors, so that the tolerance is useful.\n",
    "eplist = {}\n",
    "for i in range(180):\n",
    "    eplist[i] = 0\n",
    "for i in range(10):\n",
    "    eplist[i+180] = 1\n",
    "for i in range(5):\n",
    "    eplist[i+190] = 2\n",
    "for i in range(3):\n",
    "    eplist[i+195] = 3\n",
    "    eplist[198] = 4\n",
    "    eplist[199] = 15\n",
    "record_round(bca, eplist)"
   ]
  },
  {
   "cell_type": "markdown",
   "metadata": {},
   "source": [
    "Note that the value of $x$ has decreased from when we chose $t = 0$:"
   ]
  },
  {
   "cell_type": "code",
   "execution_count": 62,
   "metadata": {},
   "outputs": [
    {
     "data": {
      "text/plain": [
       "16"
      ]
     },
     "execution_count": 62,
     "metadata": {},
     "output_type": "execute_result"
    }
   ],
   "source": [
    "compute_x(bca)"
   ]
  },
  {
   "cell_type": "code",
   "execution_count": 63,
   "metadata": {},
   "outputs": [],
   "source": [
    "compute_rounds(bca, 0)"
   ]
  },
  {
   "cell_type": "code",
   "execution_count": 64,
   "metadata": {},
   "outputs": [
    {
     "data": {
      "text/plain": [
       "[1]"
      ]
     },
     "execution_count": 64,
     "metadata": {},
     "output_type": "execute_result"
    }
   ],
   "source": [
    "bca.kmaxs"
   ]
  },
  {
   "cell_type": "code",
   "execution_count": 65,
   "metadata": {},
   "outputs": [
    {
     "data": {
      "text/plain": [
       "[0.13861689005259878]"
      ]
     },
     "execution_count": 65,
     "metadata": {},
     "output_type": "execute_result"
    }
   ],
   "source": [
    "bca.realized_risk_sched"
   ]
  },
  {
   "cell_type": "markdown",
   "metadata": {},
   "source": [
    "With the assumed errors and a tolerance choice of $t = 4$, we can stop the audit with a <em>p</em>-value of .1386."
   ]
  },
  {
   "cell_type": "markdown",
   "metadata": {},
   "source": [
    "What if we had chosen $t = 15$? This would likely decrease $x$ even further, but, in exchange, a $k_{max}$ of 0 would let us stop."
   ]
  },
  {
   "cell_type": "code",
   "execution_count": 66,
   "metadata": {},
   "outputs": [],
   "source": [
    "N = 1000\n",
    "margin = 20000\n",
    "plist = []\n",
    "for i in range(N):\n",
    "    plist.append(Precinct(i, 1120))\n",
    "bca = BatchComparisonAudit(plist, margin, [200], [.5], 15)\n",
    "    \n",
    "# Some true errors, so that the tolerance is useful.\n",
    "eplist = {}\n",
    "for i in range(180):\n",
    "    eplist[i] = 0\n",
    "for i in range(10):\n",
    "    eplist[i+180] = 1\n",
    "for i in range(5):\n",
    "    eplist[i+190] = 2\n",
    "for i in range(3):\n",
    "    eplist[i+195] = 3\n",
    "    eplist[198] = 4\n",
    "    eplist[199] = 15\n",
    "record_round(bca, eplist)"
   ]
  },
  {
   "cell_type": "markdown",
   "metadata": {},
   "source": [
    "Just to clarify the calculation of $x$ now that we must account for large tolerances: The lowest value of $x$ such that $20000 - (180 \\cdot 0 + 10 \\cdot 1 + 5 \\cdot 2 + 3 \\cdot 3 + 1 \\cdot 4 + 1 \\cdot 15) - ((800 - x) \\cdot 15) - (x \\cdot 1120)$ is $\\leq 0$ is 8. The value of that expression for $x = 7$ is $217$, which means that six terrible precincts cannot flip the election."
   ]
  },
  {
   "cell_type": "code",
   "execution_count": 68,
   "metadata": {},
   "outputs": [
    {
     "data": {
      "text/plain": [
       "8"
      ]
     },
     "execution_count": 68,
     "metadata": {},
     "output_type": "execute_result"
    }
   ],
   "source": [
    "compute_x(bca)"
   ]
  },
  {
   "cell_type": "code",
   "execution_count": 69,
   "metadata": {},
   "outputs": [],
   "source": [
    "compute_rounds(bca, 0)"
   ]
  },
  {
   "cell_type": "code",
   "execution_count": 70,
   "metadata": {},
   "outputs": [
    {
     "data": {
      "text/plain": [
       "[0]"
      ]
     },
     "execution_count": 70,
     "metadata": {},
     "output_type": "execute_result"
    }
   ],
   "source": [
    "bca.kmaxs"
   ]
  },
  {
   "cell_type": "code",
   "execution_count": 71,
   "metadata": {},
   "outputs": [
    {
     "data": {
      "text/plain": [
       "[0.1665952541260108]"
      ]
     },
     "execution_count": 71,
     "metadata": {},
     "output_type": "execute_result"
    }
   ],
   "source": [
    "bca.realized_risk_sched"
   ]
  },
  {
   "cell_type": "markdown",
   "metadata": {},
   "source": [
    "And we see that we have a lower risk by assuming the smaller tolerance of $t = 4$!"
   ]
  }
 ],
 "metadata": {
  "kernelspec": {
   "display_name": "Python 3",
   "language": "python",
   "name": "python3"
  },
  "language_info": {
   "codemirror_mode": {
    "name": "ipython",
    "version": 3
   },
   "file_extension": ".py",
   "mimetype": "text/x-python",
   "name": "python",
   "nbconvert_exporter": "python",
   "pygments_lexer": "ipython3",
   "version": "3.7.7"
  }
 },
 "nbformat": 4,
 "nbformat_minor": 4
}