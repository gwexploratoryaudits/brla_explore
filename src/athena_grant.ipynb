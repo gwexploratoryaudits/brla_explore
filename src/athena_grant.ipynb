{
 "cells": [
  {
   "cell_type": "code",
   "execution_count": 11,
   "metadata": {},
   "outputs": [],
   "source": [
    "from athena import *\n",
    "import pandas as pd"
   ]
  },
  {
   "cell_type": "code",
   "execution_count": 37,
   "metadata": {},
   "outputs": [],
   "source": [
    "N = 1000\n",
    "reported_winner_tally = 600\n",
    "round_schedule = [50, 100, 150, 200, 250, 300]\n",
    "# Based on Filip's code for pstop = [0.3, 0.5, 0.7, 0.9]\n",
    "ra = [48, 75, 112, 184]\n",
    "alpha = 0.1"
   ]
  },
  {
   "cell_type": "code",
   "execution_count": 14,
   "metadata": {},
   "outputs": [
    {
     "name": "stdout",
     "output_type": "stream",
     "text": [
      "The outputs: k_mins, LR denominator, LR numerator, 1 / LR (or alpha').\n",
      "[32, 59, 87, 114, 142, 170] \n",
      " [0.03245432353613497, 0.062702204509582055, 0.073871355782238426, 0.082839083227917498, 0.086527996195378556, 0.088393817838159694] \n",
      " [0.33561326356098209, 0.65119261621773439, 0.78169729502765561, 0.87297049345280631, 0.91499610012512855, 0.9405557349949305] \n",
      " [0.096701552232419163, 0.095848732557439989, 0.08558429762448691, 0.098251486749783595, 0.087777744559974433, 0.07299875965699143]\n"
     ]
    }
   ],
   "source": [
    "audit_20 = Athena(N, reported_winner_tally, round_schedule, alpha)\n",
    "audit_20.compute_audit()"
   ]
  },
  {
   "cell_type": "code",
   "execution_count": 40,
   "metadata": {},
   "outputs": [],
   "source": [
    "results_by_round = zip(ra, audit_20.k_min_sched, audit_20.risk_sched, audit_20.pr_H0_sched, audit_20.pr_Ha_sched)"
   ]
  },
  {
   "cell_type": "code",
   "execution_count": null,
   "metadata": {},
   "outputs": [],
   "source": [
    "a20df = pd.DataFrame.from_records(results_by_round, columns=\"size kmin risk num den\".split())"
   ]
  },
  {
   "cell_type": "code",
   "execution_count": 26,
   "metadata": {},
   "outputs": [
    {
     "data": {
      "text/html": [
       "<div>\n",
       "<style scoped>\n",
       "    .dataframe tbody tr th:only-of-type {\n",
       "        vertical-align: middle;\n",
       "    }\n",
       "\n",
       "    .dataframe tbody tr th {\n",
       "        vertical-align: top;\n",
       "    }\n",
       "\n",
       "    .dataframe thead th {\n",
       "        text-align: right;\n",
       "    }\n",
       "</style>\n",
       "<table border=\"1\" class=\"dataframe\">\n",
       "  <thead>\n",
       "    <tr style=\"text-align: right;\">\n",
       "      <th></th>\n",
       "      <th>size</th>\n",
       "      <th>kmin</th>\n",
       "      <th>risk</th>\n",
       "      <th>num</th>\n",
       "      <th>den</th>\n",
       "    </tr>\n",
       "  </thead>\n",
       "  <tbody>\n",
       "    <tr>\n",
       "      <th>0</th>\n",
       "      <td>50</td>\n",
       "      <td>32</td>\n",
       "      <td>0.096702</td>\n",
       "      <td>0.032454</td>\n",
       "      <td>0.335613</td>\n",
       "    </tr>\n",
       "    <tr>\n",
       "      <th>1</th>\n",
       "      <td>100</td>\n",
       "      <td>59</td>\n",
       "      <td>0.095849</td>\n",
       "      <td>0.062702</td>\n",
       "      <td>0.651193</td>\n",
       "    </tr>\n",
       "    <tr>\n",
       "      <th>2</th>\n",
       "      <td>150</td>\n",
       "      <td>87</td>\n",
       "      <td>0.085584</td>\n",
       "      <td>0.073871</td>\n",
       "      <td>0.781697</td>\n",
       "    </tr>\n",
       "    <tr>\n",
       "      <th>3</th>\n",
       "      <td>200</td>\n",
       "      <td>114</td>\n",
       "      <td>0.098251</td>\n",
       "      <td>0.082839</td>\n",
       "      <td>0.872970</td>\n",
       "    </tr>\n",
       "    <tr>\n",
       "      <th>4</th>\n",
       "      <td>250</td>\n",
       "      <td>142</td>\n",
       "      <td>0.087778</td>\n",
       "      <td>0.086528</td>\n",
       "      <td>0.914996</td>\n",
       "    </tr>\n",
       "    <tr>\n",
       "      <th>5</th>\n",
       "      <td>300</td>\n",
       "      <td>170</td>\n",
       "      <td>0.072999</td>\n",
       "      <td>0.088394</td>\n",
       "      <td>0.940556</td>\n",
       "    </tr>\n",
       "  </tbody>\n",
       "</table>\n",
       "</div>"
      ],
      "text/plain": [
       "   size  kmin      risk       num       den\n",
       "0    50    32  0.096702  0.032454  0.335613\n",
       "1   100    59  0.095849  0.062702  0.651193\n",
       "2   150    87  0.085584  0.073871  0.781697\n",
       "3   200   114  0.098251  0.082839  0.872970\n",
       "4   250   142  0.087778  0.086528  0.914996\n",
       "5   300   170  0.072999  0.088394  0.940556"
      ]
     },
     "execution_count": 26,
     "metadata": {},
     "output_type": "execute_result"
    }
   ],
   "source": [
    "a20df"
   ]
  },
  {
   "cell_type": "code",
   "execution_count": 39,
   "metadata": {},
   "outputs": [
    {
     "name": "stdout",
     "output_type": "stream",
     "text": [
      "The outputs: k_mins, LR denominator, LR numerator, 1 / LR (or alpha').\n",
      "[31, 46, 66, 105] \n",
      " [0.029731687626881415, 0.047616193329550263, 0.065036476219203304, 0.079855314358376422] \n",
      " [0.31111025247728313, 0.49736026233148495, 0.6800111237946258, 0.85253070872083769] \n",
      " [0.095566402553873997, 0.096024186611689336, 0.095374764455564781, 0.085896555718652234]\n"
     ]
    }
   ],
   "source": [
    "audit_20 = Athena(N, reported_winner_tally, ra, alpha)\n",
    "audit_20.compute_audit()"
   ]
  },
  {
   "cell_type": "code",
   "execution_count": 43,
   "metadata": {},
   "outputs": [],
   "source": [
    "results_by_round = zip(ra, audit_20.k_min_sched, audit_20.risk_sched, audit_20.pr_H0_sched, audit_20.pr_Ha_sched)"
   ]
  },
  {
   "cell_type": "code",
   "execution_count": 41,
   "metadata": {},
   "outputs": [],
   "source": [
    "a20dff = pd.DataFrame.from_records(results_by_round, columns=\"size kmin risk num den\".split())"
   ]
  },
  {
   "cell_type": "code",
   "execution_count": 42,
   "metadata": {},
   "outputs": [
    {
     "data": {
      "text/html": [
       "<div>\n",
       "<style scoped>\n",
       "    .dataframe tbody tr th:only-of-type {\n",
       "        vertical-align: middle;\n",
       "    }\n",
       "\n",
       "    .dataframe tbody tr th {\n",
       "        vertical-align: top;\n",
       "    }\n",
       "\n",
       "    .dataframe thead th {\n",
       "        text-align: right;\n",
       "    }\n",
       "</style>\n",
       "<table border=\"1\" class=\"dataframe\">\n",
       "  <thead>\n",
       "    <tr style=\"text-align: right;\">\n",
       "      <th></th>\n",
       "      <th>size</th>\n",
       "      <th>kmin</th>\n",
       "      <th>risk</th>\n",
       "      <th>num</th>\n",
       "      <th>den</th>\n",
       "    </tr>\n",
       "  </thead>\n",
       "  <tbody>\n",
       "    <tr>\n",
       "      <th>0</th>\n",
       "      <td>48</td>\n",
       "      <td>31</td>\n",
       "      <td>0.095566</td>\n",
       "      <td>0.029732</td>\n",
       "      <td>0.311110</td>\n",
       "    </tr>\n",
       "    <tr>\n",
       "      <th>1</th>\n",
       "      <td>75</td>\n",
       "      <td>46</td>\n",
       "      <td>0.096024</td>\n",
       "      <td>0.047616</td>\n",
       "      <td>0.497360</td>\n",
       "    </tr>\n",
       "    <tr>\n",
       "      <th>2</th>\n",
       "      <td>112</td>\n",
       "      <td>66</td>\n",
       "      <td>0.095375</td>\n",
       "      <td>0.065036</td>\n",
       "      <td>0.680011</td>\n",
       "    </tr>\n",
       "    <tr>\n",
       "      <th>3</th>\n",
       "      <td>184</td>\n",
       "      <td>105</td>\n",
       "      <td>0.085897</td>\n",
       "      <td>0.079855</td>\n",
       "      <td>0.852531</td>\n",
       "    </tr>\n",
       "  </tbody>\n",
       "</table>\n",
       "</div>"
      ],
      "text/plain": [
       "   size  kmin      risk       num       den\n",
       "0    48    31  0.095566  0.029732  0.311110\n",
       "1    75    46  0.096024  0.047616  0.497360\n",
       "2   112    66  0.095375  0.065036  0.680011\n",
       "3   184   105  0.085897  0.079855  0.852531"
      ]
     },
     "execution_count": 42,
     "metadata": {},
     "output_type": "execute_result"
    }
   ],
   "source": [
    "a20dff"
   ]
  },
  {
   "cell_type": "code",
   "execution_count": null,
   "metadata": {},
   "outputs": [],
   "source": []
  }
 ],
 "metadata": {
  "kernelspec": {
   "display_name": "Python 3",
   "language": "python",
   "name": "python3"
  },
  "language_info": {
   "codemirror_mode": {
    "name": "ipython",
    "version": 3
   },
   "file_extension": ".py",
   "mimetype": "text/x-python",
   "name": "python",
   "nbconvert_exporter": "python",
   "pygments_lexer": "ipython3",
   "version": "3.6.9"
  },
  "toc": {
   "colors": {
    "hover_highlight": "#DAA520",
    "running_highlight": "#FF0000",
    "selected_highlight": "#FFD700"
   },
   "moveMenuLeft": true,
   "nav_menu": {
    "height": "12px",
    "width": "252px"
   },
   "navigate_menu": true,
   "number_sections": true,
   "sideBar": true,
   "threshold": 4,
   "toc_cell": false,
   "toc_section_display": "block",
   "toc_window_display": false,
   "widenNotebook": false
  }
 },
 "nbformat": 4,
 "nbformat_minor": 2
}
